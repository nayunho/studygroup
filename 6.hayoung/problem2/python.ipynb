{
 "cells": [
  {
   "cell_type": "code",
   "execution_count": null,
   "id": "52097743-fa87-44ac-a0e9-64f9a4f08a9b",
   "metadata": {},
   "outputs": [],
   "source": [
    "\n",
    ">>>>>>>>>>> 파이썬 복습개념 <<<<<<<<<<<<\n",
    "\n",
    "\n",
    "\n",
    "문제1) 다음 코드를 실행해보고 오류가 발생하는 원인은?\n",
    "  \n",
    ">> t = (1, 2, 3)\n",
    ">> t[0] = 'a'\n",
    "Traceback (most recent call last):\n",
    "  File \"<pyshell#46>\", line 1, in <module>\n",
    "    t[0] = 'a'\n",
    "TypeError: 'tuple' object does not support item assignment\n",
    "\n",
    "\n",
    "\n",
    "\n",
    "\n",
    "문제2) 다음 튜플을 리스트로 변환하시오\n",
    "  \n",
    "  interest = ('삼성전자', 'LG전자', 'SK Hynix')\n",
    "  \n",
    "\n",
    "\n",
    "  \n",
    "\n",
    "문제3) 1 부터 99까지의 정수 중 짝수만 저장된 튜플을 생성하시오\n",
    "  \n",
    " 예시: (2, 4, 6, 8 ... 98)\n",
    "\n",
    "\n",
    "\n",
    "\n",
    "문제4) 다음 아이스크림 이름과 희망 가격을 딕셔너리로 구성하시오\n",
    "\n",
    "\n",
    "이름\t희망 가격\n",
    "메로나 \t1000\n",
    "폴라포 \t1200\n",
    "빵빠레 \t1800\n",
    "\n",
    "\n",
    "\n",
    "\n",
    '문제5) 다음의 딕셔너리에서 values 값으로만 구성된 리스트를 생성하시오\n',
    "\n",
    "icecream = {'탱크보이': 1200, '폴라포': 1200, '빵빠레': 1800, '월드콘': 1500, '메로나': 1000}\n",
    "\n",
    "정답)\n",
    "\n",
    "\n",
    "  "
   ]
  },
  {
   "cell_type": "code",
   "execution_count": 1,
   "id": "3fc0f01c-6216-4918-8519-edd9b41e1be8",
   "metadata": {},
   "outputs": [
    {
     "name": "stdout",
     "output_type": "stream",
     "text": [
      "튜플은 값을 수정할 수 없기때문이다.\n"
     ]
    }
   ],
   "source": [
    "#문제1) 다음 코드를 실행해보고 오류가 발생하는 원인은?\n",
    "#t = (1, 2, 3)\n",
    "#t[0] = 'a'\n",
    "print(\"튜플은 값을 수정할 수 없기때문이다.\")\n"
   ]
  },
  {
   "cell_type": "code",
   "execution_count": 2,
   "id": "c95e4c8e-b824-43ee-8d0d-5bd1aea93884",
   "metadata": {},
   "outputs": [
    {
     "name": "stdout",
     "output_type": "stream",
     "text": [
      "['삼성전자', 'LG전자', 'SK Hynix']\n"
     ]
    }
   ],
   "source": [
    "##문제2) 다음 튜플을 리스트로 변환하시오\n",
    "  \n",
    "interest = ('삼성전자', 'LG전자', 'SK Hynix')\n",
    "a= list(interest)\n",
    "print(a)"
   ]
  },
  {
   "cell_type": "code",
   "execution_count": 8,
   "id": "c1d650a7-7460-42be-94b2-81cdaa498461",
   "metadata": {},
   "outputs": [
    {
     "name": "stdout",
     "output_type": "stream",
     "text": [
      "(0, 2, 4, 6, 8, 10, 12, 14, 16, 18, 20, 22, 24, 26, 28, 30, 32, 34, 36, 38, 40, 42, 44, 46, 48, 50, 52, 54, 56, 58, 60, 62, 64, 66, 68, 70, 72, 74, 76, 78, 80, 82, 84, 86, 88, 90, 92, 94, 96, 98, 100)\n"
     ]
    }
   ],
   "source": [
    "#문제3) 1 부터 99까지의 정수 중 짝수만 저장된 튜플을 생성하시오\n",
    "t=[]\n",
    "for i in range(101):\n",
    "    if i%2==0:\n",
    "        t.append(i)\n",
    "print(tuple(t))\n"
   ]
  },
  {
   "cell_type": "code",
   "execution_count": 10,
   "id": "4278facc-8e1b-45fb-b1ec-1162087c989c",
   "metadata": {},
   "outputs": [
    {
     "name": "stdout",
     "output_type": "stream",
     "text": [
      "{'메로나': 1000, '폴라포': 1200, '빵빠레': 1800}\n"
     ]
    }
   ],
   "source": [
    "#문제4) 다음 아이스크림 이름과 희망 가격을 딕셔너리로 구성하시오\n",
    "dict={\"메로나\":1000,\"폴라포\":1200,\"빵빠레\":1800}\n",
    "print(dict)"
   ]
  },
  {
   "cell_type": "code",
   "execution_count": 19,
   "id": "250a2103-3dcf-4075-b753-26d8d99db970",
   "metadata": {},
   "outputs": [
    {
     "name": "stdout",
     "output_type": "stream",
     "text": [
      "[1200, 1200, 1800, 1500, 1000]\n"
     ]
    }
   ],
   "source": [
    "#문제5) 다음의 딕셔너리에서 values 값으로만 구성된 리스트를 생성하시오\n",
    "\n",
    "icecream = {'탱크보이': 1200, '폴라포': 1200, '빵빠레': 1800, '월드콘': 1500, '메로나': 1000}\n",
    "\n",
    "print(list(icecream.values()))"
   ]
  }
 ],
 "metadata": {
  "kernelspec": {
   "display_name": "Python 3 (ipykernel)",
   "language": "python",
   "name": "python3"
  },
  "language_info": {
   "codemirror_mode": {
    "name": "ipython",
    "version": 3
   },
   "file_extension": ".py",
   "mimetype": "text/x-python",
   "name": "python",
   "nbconvert_exporter": "python",
   "pygments_lexer": "ipython3",
   "version": "3.11.7"
  }
 },
 "nbformat": 4,
 "nbformat_minor": 5
}
