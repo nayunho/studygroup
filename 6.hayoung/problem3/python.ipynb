{
 "cells": [
  {
   "cell_type": "code",
   "execution_count": 6,
   "id": "d78b32d1-bb95-4b1d-b3b4-9170c0743139",
   "metadata": {},
   "outputs": [
    {
     "name": "stdout",
     "output_type": "stream",
     "text": [
      "[['g']]\n",
      "\n",
      "[['c']\n",
      " ['6']\n",
      " ['g']]\n",
      "\n",
      "[['a' 'b']\n",
      " ['4' '5']]\n",
      "\n",
      "[['5' '6']\n",
      " ['f' 'g']]\n"
     ]
    }
   ],
   "source": [
    "import numpy as np\n",
    "\n",
    "# 문제 1.\n",
    "arr2 = np.array([[\"a\",\"b\",\"c\"],[4,5,6],[\"e\",\"f\",\"g\"]])\n",
    "\n",
    "# 1. arr2에서 g를 꺼내기 : 세 번째 행의 세 번째 요소\n",
    "print(arr2[2:3,2:3])\n",
    "print()\n",
    "\n",
    "# 2. arr2에서 모든열의 세번째 요소 [c,6,g] 출력\n",
    "print(arr2[:,2:3])\n",
    "print()\n",
    "\n",
    "# 3. arr2에서 [[a,b], [4,5]] 출력\n",
    "print(arr2[0:2,0:2])\n",
    "print()\n",
    "\n",
    "# 4. arr2에서 [[5,6], [f,g]] 출력\n",
    "print(arr2[1:3,1:3])\n",
    "print()"
   ]
  },
  {
   "cell_type": "code",
   "execution_count": 15,
   "id": "7f286aeb-4349-4117-86e6-85c5df230021",
   "metadata": {},
   "outputs": [
    {
     "name": "stdout",
     "output_type": "stream",
     "text": [
      "7\n",
      "\n",
      "['6' '7']\n",
      "\n",
      "['7' '12']\n",
      "\n",
      "[['k' 'l']\n",
      " ['8' '9']]\n"
     ]
    }
   ],
   "source": [
    "m = np.array([[ \"h\",  \"i\",  \"j\",  \"k\",  \"l\"],\n",
    "              [ 5,  6,  7,  8,  9],\n",
    "              [10, 11, 12, 13, 14]])\n",
    "# 5. m 행렬에서 값 7 을 인덱싱.\n",
    "print(m[1,2])\n",
    "print()\n",
    "\n",
    "# 6. m 행렬에서 배열 [6, 7] 을 슬라이싱.\n",
    "print(m[1:2,1:3][0])\n",
    "print()\n",
    "\n",
    "# 7. m 행렬에서 배열 [7, 12] 을 슬라이싱.\n",
    "print(m[1:3,2])\n",
    "print()\n",
    "\n",
    "# 8. m 행렬에서 배열 [[j, k], [7, 8]] 을 슬라이싱.\n",
    "print(m[0:2,3:5])\n",
    "print()\n"
   ]
  },
  {
   "cell_type": "code",
   "execution_count": 23,
   "id": "1c18e5da-94d5-4d8b-8d58-b5cb460d113e",
   "metadata": {},
   "outputs": [
    {
     "name": "stdout",
     "output_type": "stream",
     "text": [
      "[ 2  4  6  8 10]\n",
      "\n",
      "[ 7 10]\n",
      "\n",
      "[ 2  4  6  8 10 12 14 16 18 20]\n",
      "\n",
      "[ 1  3  5  7  9 11 13 15 17 19]\n",
      "\n"
     ]
    }
   ],
   "source": [
    "# 문제 2. \n",
    "# 1) 1차원 배열인덱싱 (블리언)\n",
    "a = np.array([1,2,3,4,5,6,7,8,9,10])\n",
    "idx = np.array([False, True,False, True, False, True, False, True, False, True])\n",
    "print(a[idx])\n",
    "print()\n",
    "\n",
    "# 7과 10만 추출\n",
    "idx = np.array([False, False,False, False, False, False, True, False, False, True])\n",
    "print(a[idx])\n",
    "print()\n",
    "\n",
    "# 짝수만 추출 \n",
    "a = np.array([1,2,3,4,5,6,7,8,9,10,11,12,13,14,15,16,17,18,19,20])\n",
    "idx = np.array([False, True,False, True, False, True, False, True, False, True, False, True, False, True, False, True, False, True, False, True])\n",
    "print(a[idx])\n",
    "print()\n",
    "\n",
    "# 홀수만 추출 \n",
    "a = np.array([1,2,3,4,5,6,7,8,9,10,11,12,13,14,15,16,17,18,19,20])\n",
    "idx = np.array([True,False, True,False, True, False, True, False, True, False, True, False, True, False, True, False, True, False, True, False])\n",
    "print(a[idx])\n",
    "print()\n"
   ]
  },
  {
   "cell_type": "code",
   "execution_count": 27,
   "id": "0c4d78c4-46e0-48e5-a1e1-71db47b59ced",
   "metadata": {},
   "outputs": [
    {
     "name": "stdout",
     "output_type": "stream",
     "text": [
      "[[ 1  2  3  4]\n",
      " [ 5  6  7  8]\n",
      " [ 9 10 11 12]]\n",
      "\n",
      "[ 1  4  5  8  9 12]\n",
      "\n",
      "[ 2  5  7 10]\n"
     ]
    }
   ],
   "source": [
    "#2) 2차원 배열인덱싱(블리언)\n",
    "a = np.array([\n",
    "    [1,2,3,4],\n",
    "    [5,6,7,8],\n",
    "    [9,10,11,12]\n",
    "])\n",
    "print(a)\n",
    "print()\n",
    "\n",
    "#  1,5,9,4,8,12만 추출\n",
    "idx = np.array([\n",
    "    [True,False,False,True],\n",
    "    [True,False,False,True],\n",
    "    [True,False,False,True]\n",
    "])\n",
    "print(a[idx])\n",
    "print()\n",
    "\n",
    "#  2,5,7,10만 추출하기\n",
    "\n",
    "idx = np.array([\n",
    "    [False,True,False,False],\n",
    "    [True,False,True,False],\n",
    "    [False,True,False,False]\n",
    "])\n",
    "print(a[idx])\n",
    "print()\n",
    "\n",
    "\n",
    "\n"
   ]
  },
  {
   "cell_type": "code",
   "execution_count": 49,
   "id": "57a266f5-dd9a-4b2e-b59f-d5e032a86a41",
   "metadata": {},
   "outputs": [
    {
     "name": "stdout",
     "output_type": "stream",
     "text": [
      "numpy 배열의 정렬 = \n",
      "[['1' '10' '16' '29' '45' '84']\n",
      " ['a' 'e' 'f' 'g' 'k' 'm']]\n"
     ]
    }
   ],
   "source": [
    "import numpy as np\n",
    "# 문제3. sort()\n",
    "\n",
    "arr = np.array([[10,29,84,1,45,16],['f','a','m','g','k','e']])\n",
    "\n",
    "# a. 행정렬\n",
    "print(f'numpy 배열의 정렬 = \\n{np.sort(arr)}')"
   ]
  },
  {
   "cell_type": "code",
   "execution_count": 54,
   "id": "7a22fa79-aea8-4267-81c9-af84aae8c0e4",
   "metadata": {},
   "outputs": [
    {
     "name": "stdout",
     "output_type": "stream",
     "text": [
      "numpy 배열의 첫번째 행만 정렬 = ['1' '10' '16' '29' '45' '84']\n",
      "\n",
      "numpy 배열의 행 정렬() = \n",
      "[['10' '29' '84' '1' '45' '16']\n",
      " ['f' 'a' 'm' 'g' 'k' 'e']]\n",
      "\n",
      "numpy 배열의 열 정렬() = \n",
      "[['1' '10' '16' '29' '45' '84']\n",
      " ['a' 'e' 'f' 'g' 'k' 'm']]\n"
     ]
    }
   ],
   "source": [
    "# b. 첫번째 행만 정렬\n",
    "print(f'numpy 배열의 첫번째 행만 정렬 = {np.sort(arr[0])}')\n",
    "print()\n",
    "\n",
    "# c. 열과행 모두 정렬(axis 사용)\n",
    "print(f'numpy 배열의 행 정렬() = \\n{np.sort(arr,axis=0)}')\n",
    "print()\n",
    "\n",
    "print(f'numpy 배열의 열 정렬() = \\n{np.sort(arr,axis=1)}')\n"
   ]
  },
  {
   "cell_type": "code",
   "execution_count": 40,
   "id": "2ac775dc-82a7-4e08-997b-c597daa6296e",
   "metadata": {},
   "outputs": [
    {
     "name": "stdout",
     "output_type": "stream",
     "text": [
      "1차원배열 중복제거 = ['민지' '사쿠라' '은채' '채원' '하니' '혜린']\n",
      "\n",
      "2차원배열 중복제거(전체)=[11 12 38 43]\n",
      "\n",
      "2차원배열 중복제거(열:axis=0) = \n",
      "[[11 12]\n",
      " [43 38]]\n",
      "\n",
      "2차원배열 중복제거(행:axis=1) = \n",
      "[[11 12]\n",
      " [11 12]\n",
      " [43 38]]\n"
     ]
    }
   ],
   "source": [
    "# 문제4. unique()\n",
    "idols = np.array(['은채','사쿠라','채원','혜린','민지','하니','민지','은채'])\n",
    "\n",
    "# 1) 1차원배열 중복제거\n",
    "print(f'1차원배열 중복제거 = {np.unique(idols)}')\n",
    "print()\n",
    "\n",
    "# 2) 2차원중복제거\n",
    "numbers = [[11,12],[11,12],[43,38]]\n",
    "print(f'2차원배열 중복제거(전체)={np.unique(numbers)}')\n",
    "print()\n",
    "\n",
    "print(f'2차원배열 중복제거(열:axis=0) = \\n{np.unique(numbers,axis=0)}')\n",
    "print()\n",
    "\n",
    "print(f'2차원배열 중복제거(행:axis=1) = \\n{np.unique(numbers,axis=1)}')\n",
    "print()"
   ]
  }
 ],
 "metadata": {
  "kernelspec": {
   "display_name": "Python 3 (ipykernel)",
   "language": "python",
   "name": "python3"
  },
  "language_info": {
   "codemirror_mode": {
    "name": "ipython",
    "version": 3
   },
   "file_extension": ".py",
   "mimetype": "text/x-python",
   "name": "python",
   "nbconvert_exporter": "python",
   "pygments_lexer": "ipython3",
   "version": "3.11.7"
  }
 },
 "nbformat": 4,
 "nbformat_minor": 5
}
