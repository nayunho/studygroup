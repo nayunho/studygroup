{
 "cells": [
  {
   "cell_type": "code",
   "execution_count": 37,
   "id": "2e999bd9-1078-45ac-bf1a-69a8cb0d0ad9",
   "metadata": {},
   "outputs": [
    {
     "name": "stdin",
     "output_type": "stream",
     "text": [
      "숫자를 입력하세요 >> 5\n"
     ]
    },
    {
     "name": "stdout",
     "output_type": "stream",
     "text": [
      "2\n",
      "3\n",
      "5\n"
     ]
    }
   ],
   "source": [
    "# 정수 하나를 입력 받아서 \n",
    "# 1) 입력받은 정수가 소수일 경우에는 그 정수를 포함한 작은 소수들만 출력하고 \n",
    "# 2) 입력받은 정수가 소수가 아닐 경우에는 그 정수보다 작은 소수들만 출력하는 코드를 만드시오.\n",
    "# 소수란? : 1과 자기 자신으로만 나눠지는 수(1은 불포함) \n",
    "# (소수 예 : 2,3,5,7,...)(소수가 아닌 예 : 4는 1,2,4로 나눠지므로 소수가 아님)\n",
    "# 아래 적어진 형식 말고도 코드를 만들어도 됩니다! \n",
    "# <예시 1>\n",
    "# 입력 >> 13\n",
    "# 출력 >> 2,3,5,7,11,13\n",
    "\n",
    "# <예시 2>\n",
    "# 입력 >> 6\n",
    "# 출력 >> 2,3,5\n",
    "\n",
    "\n",
    "# 문제에 대한 답\n",
    "\n",
    "num = int(input(\"숫자를 입력하세요 >>\"))\n",
    "\n",
    "for i in range(2,num+1):\n",
    "\n",
    "    for j in range(2,i+1):\n",
    "\n",
    "        if i == j:\n",
    "            print(i)\n",
    "        elif i%j==0:\n",
    "            break\n",
    "\n",
    "        \n",
    "    "
   ]
  }
 ],
 "metadata": {
  "kernelspec": {
   "display_name": "Python 3 (ipykernel)",
   "language": "python",
   "name": "python3"
  },
  "language_info": {
   "codemirror_mode": {
    "name": "ipython",
    "version": 3
   },
   "file_extension": ".py",
   "mimetype": "text/x-python",
   "name": "python",
   "nbconvert_exporter": "python",
   "pygments_lexer": "ipython3",
   "version": "3.11.7"
  }
 },
 "nbformat": 4,
 "nbformat_minor": 5
}
