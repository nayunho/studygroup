{
 "cells": [
  {
   "cell_type": "code",
   "execution_count": 46,
   "id": "2e999bd9-1078-45ac-bf1a-69a8cb0d0ad9",
   "metadata": {},
   "outputs": [
    {
     "name": "stdout",
     "output_type": "stream",
     "text": [
      "김씨의 성을 가진 사람은 4명이고 이씨의 성을 가진 사람은 2명이다.\n",
      "김영건 이름은 3명 있습니다.\n",
      "{'박지성', '이환희', '나윤호', '윤혜린', '유현준', '김하영', '홍명보', '김영건', '표민', '손흥민', '심주찬', '이영표', '정소현'}\n",
      "['김영건', '김하영', '나윤호', '박지성', '손흥민', '심주찬', '유현준', '윤혜린', '이영표', '이환희', '정소현', '표민', '홍명보']\n"
     ]
    }
   ],
   "source": [
    "#아래 names 문자열을 이용해서 1 ~ 4 번 문제 풀면됩니다!\n",
    "\n",
    "names = \"김영건,손흥민,박지성,나윤호,홍명보,심주찬,나윤호,유현준,김영건,표민,김하영,김영건,정소현,윤혜린,이환희,이영표,유현준,손흥민,정소현\".split(\",\")\n",
    "\n",
    "\n",
    "#1 김씨와 이씨 성을 가진 사람은 각각 몇명인지 출력\n",
    "#>> list - lambda식 이용\n",
    "search1 = lambda name_list,key : len([name for name in name_list if name.startswith(key)])\n",
    "\n",
    "print(f'김씨의 성을 가진 사람은 {search1(names,\"김\")}명이고 이씨의 성을 가진 사람은 {search1(names,\"이\")}명이다.')\n",
    "\n",
    "#2 김영건 이름이 몇개 들어있는지 출력\n",
    "#>> lambda식 이용\n",
    "search2 = lambda name_list : len([name for name in name_list if name ==\"김영건\"])\n",
    "\n",
    "print(f'김영건 이름은 {search2(names)}명 있습니다.')\n",
    "#3 중복을 제거 후 출력\n",
    "search3=set(names)\n",
    "print(search3)\n",
    "\n",
    "#4 중복 제거 한 이름을 오름차순으로 출력\n",
    "search3=list(search3)\n",
    "search3.sort()\n",
    "print(search3)"
   ]
  },
  {
   "cell_type": "code",
   "execution_count": null,
   "id": "30b25669-9efb-4322-bb03-cce5173c6c67",
   "metadata": {},
   "outputs": [],
   "source": []
  }
 ],
 "metadata": {
  "kernelspec": {
   "display_name": "Python 3 (ipykernel)",
   "language": "python",
   "name": "python3"
  },
  "language_info": {
   "codemirror_mode": {
    "name": "ipython",
    "version": 3
   },
   "file_extension": ".py",
   "mimetype": "text/x-python",
   "name": "python",
   "nbconvert_exporter": "python",
   "pygments_lexer": "ipython3",
   "version": "3.11.7"
  }
 },
 "nbformat": 4,
 "nbformat_minor": 5
}
