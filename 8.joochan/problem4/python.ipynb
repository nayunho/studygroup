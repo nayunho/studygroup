{
 "cells": [
  {
   "cell_type": "code",
   "execution_count": 12,
   "id": "0e1d9a80-2cb8-4c22-83d7-4b174d797740",
   "metadata": {},
   "outputs": [
    {
     "name": "stdout",
     "output_type": "stream",
     "text": [
      "[['엄마', '인생', '상자', '말씀'], ['집기', '전', '수'], []]\n"
     ]
    }
   ],
   "source": [
    "from konlpy.tag import Komoran\n",
    "from gensim.models import Word2Vec\n",
    "\n",
    "# < Word2Vec 모델훈련을 이용해 단어간의 유사확률을 출력하기  >\n",
    "\n",
    "\n",
    "text = \"엄마는 항상 인생은 상자와 같은 거라고 말씀하셨어요.그걸 집기 전에는 알 수 없는 거라고.\"\n",
    "\n",
    "\n",
    "#  형태소 분석 후 명사 단어만 추출\n",
    "komoran = Komoran()\n",
    "docs = [komoran.nouns(sentence) for sentence in text.split('.')]\n",
    "print(docs)\n",
    "\n"
   ]
  },
  {
   "cell_type": "code",
   "execution_count": 17,
   "id": "63948e7a-572b-49a0-95c5-eefda785da03",
   "metadata": {},
   "outputs": [
    {
     "name": "stdout",
     "output_type": "stream",
     "text": [
      "Word2Vec<vocab=7, vector_size=100, alpha=0.025>\n",
      "가장 유사한 단어 => 상자,('말씀', 0.13149002194404602),('집기', 0.06408979743719101)\n"
     ]
    }
   ],
   "source": [
    "# Word2Vec 모델 훈련\n",
    "model = Word2Vec(docs, vector_size=100, window=5, min_count=1, sg=0)\n",
    "print(model)\n",
    "# '인생'와 가장 유사한 3개의 단어와 유사확률을 출력하는 코드 완성하기\n",
    "\n",
    "similar_words = model.wv.most_similar('인생', topn=3)\n",
    "\n",
    "print(f\"가장 유사한 단어 => {similar_words[0][0]},{similar_words[1][0]},{similar_words[2][0]}\"  )"
   ]
  },
  {
   "cell_type": "code",
   "execution_count": null,
   "id": "514d4010-f351-467c-9915-f355a8571c7f",
   "metadata": {},
   "outputs": [],
   "source": []
  }
 ],
 "metadata": {
  "kernelspec": {
   "display_name": "Python 3 (ipykernel)",
   "language": "python",
   "name": "python3"
  },
  "language_info": {
   "codemirror_mode": {
    "name": "ipython",
    "version": 3
   },
   "file_extension": ".py",
   "mimetype": "text/x-python",
   "name": "python",
   "nbconvert_exporter": "python",
   "pygments_lexer": "ipython3",
   "version": "3.11.7"
  }
 },
 "nbformat": 4,
 "nbformat_minor": 5
}
