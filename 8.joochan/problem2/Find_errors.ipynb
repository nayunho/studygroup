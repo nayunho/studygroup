{
 "cells": [
  {
   "cell_type": "code",
   "execution_count": null,
   "id": "52097743-fa87-44ac-a0e9-64f9a4f08a9b",
   "metadata": {},
   "outputs": [],
   "source": [
    "# 이 코드는 사용자로부터 5개의 값을 입력받습니다.\n",
    "# 값이 홀수인 경우 a_data에 추가하고, \n",
    "# 짝수인 경우 b_data 추가하여 한개의\n",
    "# 한개의 list로 통합하여 출력합니다.\n",
    "\n",
    "# 오타를 찾고 코드를 완성해주세요 \n",
    "\n",
    "a_data = [] \n",
    "b_data = {}\n",
    "\n",
    "# 사용자로부터 입력을 받아 처리\n",
    "for (int i = 0; i < 5; i++) =  # 5번 반복\n",
    "    i = int(input(\"값을 입력하세요: \"))\n",
    "        \n",
    "      if i % 2 == 0:  # 짝수인 경우 b_data 추가\n",
    "         key = f'{i}'\n",
    "         b_data[key] = i\n",
    "        \n",
    "    else:  # 홀수인 경우 a_data 추가\n",
    "        \n",
    "\n",
    "# 두개의 data가 합쳐짐\n",
    "combined_data = a_data + b_data.keys()\n",
    "\n",
    "# 결과 출력\n",
    "print(\"결과:\", combined_data)"
   ]
  }
 ],
 "metadata": {
  "kernelspec": {
   "display_name": "Python 3 (ipykernel)",
   "language": "python",
   "name": "python3"
  },
  "language_info": {
   "codemirror_mode": {
    "name": "ipython",
    "version": 3
   },
   "file_extension": ".py",
   "mimetype": "text/x-python",
   "name": "python",
   "nbconvert_exporter": "python",
   "pygments_lexer": "ipython3",
   "version": "3.11.7"
  }
 },
 "nbformat": 4,
 "nbformat_minor": 5
}
