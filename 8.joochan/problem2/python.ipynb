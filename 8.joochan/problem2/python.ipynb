{
 "cells": [
  {
   "cell_type": "code",
   "execution_count": 9,
   "id": "2e999bd9-1078-45ac-bf1a-69a8cb0d0ad9",
   "metadata": {},
   "outputs": [
    {
     "name": "stdin",
     "output_type": "stream",
     "text": [
      "값을 입력하세요:  1\n",
      "값을 입력하세요:  2\n",
      "값을 입력하세요:  3\n",
      "값을 입력하세요:  4\n",
      "값을 입력하세요:  5\n"
     ]
    },
    {
     "name": "stdout",
     "output_type": "stream",
     "text": [
      "[2, 4]\n",
      "[1, 3, 5]\n",
      "결과: [1, 3, 5, 2, 4]\n"
     ]
    }
   ],
   "source": [
    "# 이 코드는 사용자로부터 5개의 값을 입력받습니다.\n",
    "# 값이 홀수인 경우 a_data에 추가하고, \n",
    "# 짝수인 경우 b_data 추가하여 한개의\n",
    "# 한개의 list로 통합하여 출력합니다.\n",
    "\n",
    "# 오타를 찾고 코드를 완성해주세요 \n",
    "\n",
    "a_data = [] \n",
    "b_data = []\n",
    "\n",
    "# 사용자로부터 입력을 받아 처리\n",
    "for i in range(0,5):  # 5번 반복\n",
    "    a = int(input(\"값을 입력하세요: \"))\n",
    "        \n",
    "    if a % 2 == 0:  # 짝수인 경우 b_data 추가\n",
    "        b_data.append(a)\n",
    "    else:  # 홀수인 경우 a_data 추가\n",
    "        a_data.append(a)\n",
    "\n",
    "# 두개의 data가 합쳐짐\n",
    "combined_data = a_data + b_data\n",
    "# 결과 출력\n",
    "print(\"결과:\", combined_data)"
   ]
  },
  {
   "cell_type": "code",
   "execution_count": null,
   "id": "bfd8c87d-2ae6-4b42-ac78-40554600b267",
   "metadata": {},
   "outputs": [],
   "source": [
    "\n",
    "\n"
   ]
  }
 ],
 "metadata": {
  "kernelspec": {
   "display_name": "Python 3 (ipykernel)",
   "language": "python",
   "name": "python3"
  },
  "language_info": {
   "codemirror_mode": {
    "name": "ipython",
    "version": 3
   },
   "file_extension": ".py",
   "mimetype": "text/x-python",
   "name": "python",
   "nbconvert_exporter": "python",
   "pygments_lexer": "ipython3",
   "version": "3.11.7"
  }
 },
 "nbformat": 4,
 "nbformat_minor": 5
}
