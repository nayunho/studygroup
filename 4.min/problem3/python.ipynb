{
 "cells": [
  {
   "cell_type": "code",
   "execution_count": 6,
   "id": "b3eb45a7-c7c5-4452-90ee-f2dbf6b80261",
   "metadata": {},
   "outputs": [],
   "source": [
    "#1번\n",
    "\n",
    "import pandas as pd\n",
    "\n",
    "# 데이터 리스트를 plot 메서드를 이용해 line,bar,barh, pie 그래프를 그리시오\n",
    "data = [1, 4, 3, 9, 2, 6, 7]\n",
    "s=pd.Series(data)\n",
    "s.plot(kind=\"line\")\n",
    "s.plot(kind=\"barh\")\n",
    "s.plot(kind=\"pie\")"
   ]
  },
  {
   "cell_type": "code",
   "execution_count": null,
   "id": "e135d2fb-3aaa-448d-bf2d-dd22883b7a27",
   "metadata": {},
   "outputs": [],
   "source": [
    "2번\n",
    "import numpy as np\n",
    "다음 중에 넘파이를 사용하여 행렬의 전치(transpose)를 구하는 함수는 무엇인가요?\n",
    "a) np.transpose()\n",
    "b) np.transpose_matrix()\n",
    "c) np.matrix_transpose()\n",
    "d) np.matrixTranspose()\n",
    "\n",
    "답: a\n"
   ]
  },
  {
   "cell_type": "code",
   "execution_count": null,
   "id": "c2dc7c3f-6e9c-4f14-9b50-6ac1bb78a12a",
   "metadata": {},
   "outputs": [],
   "source": [
    "다음 중에 주어진 2차원 배열의 행과 열의 개수를 확인하는 함수는 무엇인가요?\n",
    "a) np.size()\n",
    "b) np.dimensions()\n",
    "c) np.shape()\n",
    "d) np.count()\n",
    "\n",
    "답: b"
   ]
  },
  {
   "cell_type": "code",
   "execution_count": null,
   "id": "1b36746f-9038-4fb5-84c4-34ceb6f147e0",
   "metadata": {},
   "outputs": [],
   "source": [
    "다음 중에 넘파이를 사용하여 모든 원소가 0인 3x3 행렬을 생성하는 함수는 무엇인가요?\n",
    "a) np.zero_matrix(3, 3)\n",
    "b) np.zeros((3, 3))\n",
    "c) np.create_matrix(3, 3)\n",
    "d) np.empty((3, 3))\n",
    "\n",
    "답: b"
   ]
  },
  {
   "cell_type": "code",
   "execution_count": null,
   "id": "91bea07a-76a1-4e71-b441-f4900fd2bb0d",
   "metadata": {},
   "outputs": [],
   "source": [
    "다음 중에 주어진 행렬의 열끼리의 합을 구하는 함수는 무엇인가요?\n",
    "a) np.sum(axis=0)\n",
    "b) np.add_rows()\n",
    "c) np.row_sum()\n",
    "d) np.sum_rows()\n",
    "\n",
    "답: b"
   ]
  },
  {
   "cell_type": "code",
   "execution_count": null,
   "id": "aa2dbf09-e9df-4480-9036-6f96a006eb20",
   "metadata": {},
   "outputs": [],
   "source": [
    "다음 중에 두 행렬의 요소별 곱셈을 수행하는 함수는 무엇인가요?\n",
    "a) np.multiply()\n",
    "b) np.dot_product()\n",
    "c) np.elementwise_multiply()\n",
    "d) np.multiply_elements()\n",
    "\n",
    "답: d"
   ]
  }
 ],
 "metadata": {
  "kernelspec": {
   "display_name": "Python 3 (ipykernel)",
   "language": "python",
   "name": "python3"
  },
  "language_info": {
   "codemirror_mode": {
    "name": "ipython",
    "version": 3
   },
   "file_extension": ".py",
   "mimetype": "text/x-python",
   "name": "python",
   "nbconvert_exporter": "python",
   "pygments_lexer": "ipython3",
   "version": "3.11.7"
  }
 },
 "nbformat": 4,
 "nbformat_minor": 5
}
