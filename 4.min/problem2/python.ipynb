{
 "cells": [
  {
   "cell_type": "code",
   "execution_count": 26,
   "id": "7a1faf37-734e-43f3-bc6c-be60a7b7d7b7",
   "metadata": {},
   "outputs": [],
   "source": [
    "#주어진 문자열에서 l이 몇 번 등장하는지 세시오(count)\n",
    "text1 = \"hello world\"\n",
    "char = \"l\"\n",
    "\n",
    "#문자열에서 공백을 모두 제거한 후에 결과를 출력하세요.(replace)\n",
    "text2 = \"hello world\"\n",
    "\n",
    "#해당 문자열을 거꾸로 출력하세요.(reverse)\n",
    "text3 =  \"python\"\n",
    "\n",
    "#주어진 리스트에서 중복된 항목을 제거하고, 결과를 출력하세요.(set)\n",
    "list1 = [1, 2, 2, 3, 4, 4, 5]\n",
    "\n",
    "#주어진 리스트를 역순으로 정렬한 결과를 출력하세요.(reverse)\n",
    "list2 = [3, 1, 4, 1, 5, 9, 2] \n",
    "\n",
    "#주어진 리스트에 있는 모든 숫자의 합을 계산하여 출력하세요.(sum)\n",
    "list3 = [1, 2, 3, 4, 5]\n",
    "\n",
    "#해당 리스트의 최대값과 최소값을 출력하세요.(min,max)\n",
    "list4 = [5, 2, 7, 1, 9] \n",
    "\n",
    "#해당 리스트에 add리스트를 더하시오(extend)\n",
    "list5 = [1, 2, 3, 4, 5]\n",
    "add = [9, 8, 7]\n",
    "\n",
    "# 숫자 4를 리스트 안에 있는 숫자1 뒤에 삽입하시오(insert)\n",
    "list6 = [1, 2, 3, 5]"
   ]
  },
  {
   "cell_type": "code",
   "execution_count": 3,
   "id": "7741a066-03bd-4560-9f70-83edf90b9d76",
   "metadata": {},
   "outputs": [
    {
     "name": "stdout",
     "output_type": "stream",
     "text": [
      "3\n"
     ]
    }
   ],
   "source": [
    "print(text1.count(char))"
   ]
  },
  {
   "cell_type": "code",
   "execution_count": 4,
   "id": "b9dbfe01-058d-435e-8f2c-99675c4336ea",
   "metadata": {},
   "outputs": [
    {
     "name": "stdout",
     "output_type": "stream",
     "text": [
      "helloworld\n"
     ]
    }
   ],
   "source": [
    "print(text2.replace(\" \",\"\"))"
   ]
  },
  {
   "cell_type": "code",
   "execution_count": 10,
   "id": "ec8244c2-6673-481c-aab8-6eddc85a76b9",
   "metadata": {},
   "outputs": [
    {
     "name": "stdout",
     "output_type": "stream",
     "text": [
      "nohtyp\n"
     ]
    }
   ],
   "source": [
    "print(text3[::-1])"
   ]
  },
  {
   "cell_type": "code",
   "execution_count": 31,
   "id": "5c6bef8a-6442-4212-91e9-1c2913d92d16",
   "metadata": {},
   "outputs": [
    {
     "data": {
      "text/plain": [
       "{1, 2, 3, 4, 5}"
      ]
     },
     "execution_count": 31,
     "metadata": {},
     "output_type": "execute_result"
    }
   ],
   "source": [
    "set(list1)"
   ]
  },
  {
   "cell_type": "code",
   "execution_count": 14,
   "id": "00d73b03-6605-42b9-8083-a01a3adc594b",
   "metadata": {},
   "outputs": [
    {
     "name": "stdout",
     "output_type": "stream",
     "text": [
      "[3, 1, 4, 1, 5, 9, 2]\n"
     ]
    }
   ],
   "source": [
    "print(list2)\n",
    "list2.reverse()"
   ]
  },
  {
   "cell_type": "code",
   "execution_count": 20,
   "id": "1e20f1aa-2c4b-4f19-9d92-5ee0008116bc",
   "metadata": {},
   "outputs": [
    {
     "data": {
      "text/plain": [
       "15"
      ]
     },
     "execution_count": 20,
     "metadata": {},
     "output_type": "execute_result"
    }
   ],
   "source": [
    "sum(list3)"
   ]
  },
  {
   "cell_type": "code",
   "execution_count": 19,
   "id": "a4d19d85-c316-472b-8b38-5bb7d7173c27",
   "metadata": {},
   "outputs": [
    {
     "name": "stdout",
     "output_type": "stream",
     "text": [
      "1 9\n"
     ]
    }
   ],
   "source": [
    "print(min(list4),max(list4))"
   ]
  },
  {
   "cell_type": "code",
   "execution_count": 18,
   "id": "b5fcd8ad-e54f-48a6-8ebf-2d4d22f1f5b8",
   "metadata": {},
   "outputs": [
    {
     "name": "stdout",
     "output_type": "stream",
     "text": [
      "[1, 2, 3, 4, 5, 9, 8, 7]\n"
     ]
    }
   ],
   "source": [
    "list5.extend(add)\n",
    "print(list5)"
   ]
  },
  {
   "cell_type": "code",
   "execution_count": 27,
   "id": "de4f01de-c983-49dd-a203-77e3bcefda53",
   "metadata": {},
   "outputs": [
    {
     "name": "stdout",
     "output_type": "stream",
     "text": [
      "[1, 4, 2, 3, 5]\n"
     ]
    }
   ],
   "source": [
    "list6.insert(1,4)\n",
    "print(list6)"
   ]
  }
 ],
 "metadata": {
  "kernelspec": {
   "display_name": "Python 3 (ipykernel)",
   "language": "python",
   "name": "python3"
  },
  "language_info": {
   "codemirror_mode": {
    "name": "ipython",
    "version": 3
   },
   "file_extension": ".py",
   "mimetype": "text/x-python",
   "name": "python",
   "nbconvert_exporter": "python",
   "pygments_lexer": "ipython3",
   "version": "3.11.7"
  }
 },
 "nbformat": 4,
 "nbformat_minor": 5
}
