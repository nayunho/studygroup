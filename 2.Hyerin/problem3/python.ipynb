{
 "cells": [
  {
   "cell_type": "code",
   "execution_count": 1,
   "id": "d163d3d1-9f12-40aa-9a4a-35c6df6cdde0",
   "metadata": {},
   "outputs": [
    {
     "name": "stdout",
     "output_type": "stream",
     "text": [
      "Welcome To Password Generator\n"
     ]
    },
    {
     "name": "stdin",
     "output_type": "stream",
     "text": [
      "비밀번호 갯수를 입력하세요 5\n",
      "비밀번호 길이를 입력하세요 5\n"
     ]
    },
    {
     "name": "stdout",
     "output_type": "stream",
     "text": [
      "\n",
      "--Here are your passwords--\n",
      "RVuRO\n",
      "NXckd\n",
      "gqO*(\n",
      "$ARN8\n",
      "bV.Wq\n"
     ]
    }
   ],
   "source": [
    "#[간단한 비밀번호 생성 프로그램]\n",
    "# chars문자열에서 random으로 추출해서 비밀번호 생성\n",
    "# 몇 개를 추출할 것인지는 입력받을 길이로 결정\n",
    "\n",
    "import random\n",
    "# 여기에 random 모듈 import하기\n",
    "\n",
    "print('Welcome To Password Generator')\n",
    "\n",
    "chars = 'abcdefghijklmnopqrstuvwxyzABCDEFGHIJKLMNOPQRSTUVWXYZ!@$%^&*().,?0123456789'\n",
    "\n",
    "# 여기에 생성할 비밀번호의 갯수와 길이를 각각 number와 length라는 변수로 입력받는 코드 작성\n",
    "number=int(input(\"비밀번호 갯수를 입력하세요\"))\n",
    "length=int(input(\"비밀번호 길이를 입력하세요\"))\n",
    "# 비밀번호 생성 - 이중 for문 사용\n",
    "print('\\n--Here are your passwords--')\n",
    "pw=\"\"\n",
    "  # 여기에 for문 작성\n",
    "for i in range(1,number+1):\n",
    "    for j in range(1,length+1):\n",
    "        pw =pw+ chars[random.randrange(1,len(chars))]\n",
    "    print(pw)\n",
    "    pw=\"\""
   ]
  },
  {
   "cell_type": "code",
   "execution_count": null,
   "id": "205004d8-3bc4-439e-a5b2-ba3b66cd7cc0",
   "metadata": {},
   "outputs": [],
   "source": []
  }
 ],
 "metadata": {
  "kernelspec": {
   "display_name": "Python 3 (ipykernel)",
   "language": "python",
   "name": "python3"
  },
  "language_info": {
   "codemirror_mode": {
    "name": "ipython",
    "version": 3
   },
   "file_extension": ".py",
   "mimetype": "text/x-python",
   "name": "python",
   "nbconvert_exporter": "python",
   "pygments_lexer": "ipython3",
   "version": "3.11.7"
  }
 },
 "nbformat": 4,
 "nbformat_minor": 5
}
