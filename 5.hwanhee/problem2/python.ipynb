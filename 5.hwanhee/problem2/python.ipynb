{
 "cells": [
  {
   "cell_type": "code",
   "execution_count": 33,
   "id": "fa5fb60e-68d0-4e83-ba63-365457019351",
   "metadata": {},
   "outputs": [
    {
     "name": "stdout",
     "output_type": "stream",
     "text": [
      "2 2 1\n",
      "5\n"
     ]
    }
   ],
   "source": [
    "# 4 of a Kind : 주사위를 굴려 동일한 주사위 눈이 2개 이상일 때. point에 주사위 눈 3개의 총합 추가.\n",
    "\n",
    "import random\n",
    "import math\n",
    "\n",
    "dice1 = int(random.random()*6+1)\n",
    "dice2 = int(random.random()*6+1)\n",
    "dice3 = int(random.random()*6+1)\n",
    "point = 0\n",
    "\n",
    "if dice1 == dice2 or dice2==dice3 or dice1 == dice3:\n",
    "    point = dice1 + dice2 + dice3\n",
    "else:\n",
    "    point=0;\n",
    "\n",
    "print(dice1,dice2,dice3)\n",
    "print(point)"
   ]
  },
  {
   "cell_type": "code",
   "execution_count": 31,
   "id": "f79915a4-5cb7-442e-abc4-37bc78169ea1",
   "metadata": {},
   "outputs": [
    {
     "name": "stdout",
     "output_type": "stream",
     "text": [
      "2 2 2\n",
      "30\n"
     ]
    }
   ],
   "source": [
    "# Yacht : 주사위를 굴려 동일한 주사위 눈이 3개 이상일 때. point에 30점 추가.\n",
    "\n",
    "dice1 = int(random.random()*3+1)\n",
    "dice2 = int(random.random()*3+1)\n",
    "dice3 = int(random.random()*3+1)\n",
    "point = 0\n",
    "\n",
    "if  dice1==dice2==dice3:\n",
    "    point += 30\n",
    "\n",
    "print(dice1,dice2,dice3)\n",
    "print(point)"
   ]
  }
 ],
 "metadata": {
  "kernelspec": {
   "display_name": "Python 3 (ipykernel)",
   "language": "python",
   "name": "python3"
  },
  "language_info": {
   "codemirror_mode": {
    "name": "ipython",
    "version": 3
   },
   "file_extension": ".py",
   "mimetype": "text/x-python",
   "name": "python",
   "nbconvert_exporter": "python",
   "pygments_lexer": "ipython3",
   "version": "3.11.7"
  }
 },
 "nbformat": 4,
 "nbformat_minor": 5
}
