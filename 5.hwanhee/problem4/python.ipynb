{
 "cells": [
  {
   "cell_type": "markdown",
   "id": "dd7c4165-69b0-4b9e-a562-f796819a14aa",
   "metadata": {},
   "source": [
    "### billboard hot-100에서 제목과 아티스트명 가지고 오기"
   ]
  },
  {
   "cell_type": "code",
   "execution_count": 66,
   "id": "59cc90a3-6f68-4b24-a970-ca6f2e690bfb",
   "metadata": {},
   "outputs": [],
   "source": [
    "from bs4 import BeautifulSoup as bs\n",
    "from urllib.parse import quote\n",
    "from urllib.request import urlopen\n",
    "import json\n",
    "\n",
    "url = f'https://www.billboard.com/charts/hot-100/'\n",
    "\n",
    "html = urlopen(url)\n",
    "soup = bs(html, 'html.parser')\n",
    "\n",
    "lists = soup.find_all('div',{'class':'o-chart-results-list-row-container'})\n",
    "\n",
    "\n",
    "for items in lists:\n",
    "   # print(items)\n",
    "    data = []\n",
    "    title=items.find('h3',{'class':'c-title'})\n",
    "    title=title.text.strip()\n",
    "\n",
    "    name=items.find('h3',{'class':'c-title'}).find_next()\n",
    "    name=name.text.strip()\n",
    "    song_info = {\n",
    "        \"title\" : title,\n",
    "        \"name\" : name\n",
    "    }\n",
    "    data.append(song_info)\n",
    "\n",
    "with open('Ex01.json', 'w') as f:\n",
    "    json.dump(data, f)"
   ]
  },
  {
   "cell_type": "code",
   "execution_count": null,
   "id": "8b18bb86-960b-4bbf-a96b-ac5c3014da94",
   "metadata": {},
   "outputs": [],
   "source": []
  }
 ],
 "metadata": {
  "kernelspec": {
   "display_name": "Python 3 (ipykernel)",
   "language": "python",
   "name": "python3"
  },
  "language_info": {
   "codemirror_mode": {
    "name": "ipython",
    "version": 3
   },
   "file_extension": ".py",
   "mimetype": "text/x-python",
   "name": "python",
   "nbconvert_exporter": "python",
   "pygments_lexer": "ipython3",
   "version": "3.11.7"
  }
 },
 "nbformat": 4,
 "nbformat_minor": 5
}
