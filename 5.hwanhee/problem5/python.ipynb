{
 "cells": [
  {
   "cell_type": "code",
   "execution_count": 4,
   "id": "64bdcd4e-cfb9-43f4-b272-9a3c86f00829",
   "metadata": {},
   "outputs": [],
   "source": [
    "!mkdir .\\templates"
   ]
  },
  {
   "cell_type": "code",
   "execution_count": 5,
   "id": "8142cd19-e7e6-413b-8d17-d925b37ab88e",
   "metadata": {},
   "outputs": [
    {
     "name": "stdout",
     "output_type": "stream",
     "text": [
      "Writing ./templates/Ex01.html\n"
     ]
    }
   ],
   "source": [
    "%%writefile ./templates/Ex01.html\n",
    "<!DOCTYPE html>\n",
    "<html>\n",
    "<body>\n",
    "    <h2> title : {{ title }}</h2>\n",
    "    <h5> data : {{ data }}</h5>\n",
    "</body>\n",
    "</html>"
   ]
  },
  {
   "cell_type": "code",
   "execution_count": null,
   "id": "848beaec-c30b-4cf5-aca1-10169d1711a4",
   "metadata": {},
   "outputs": [],
   "source": [
    "import json\n",
    "from flask import Flask, render_template\n",
    "\n",
    "app = Flask(__name__)\n",
    "\n",
    "json_data = '''{\n",
    "    \"main\": {\n",
    "        \"title\":\"main\",\n",
    "        \"data\":\"maindata\"\n",
    "    },\n",
    "    \"stage1\": {\n",
    "        \"title\":\"stage1\",\n",
    "        \"data\":\"stage1data\"\n",
    "    },\n",
    "    \"stage2\": {\n",
    "        \"title\":\"stage2\",\n",
    "        \"data\":\"stage2data\"\n",
    "    }\n",
    "}'''\n",
    "\n",
    "json_data = json.loads(json_data)\n",
    "\n",
    "# https://localhost:5000/\n",
    "# 출력 예시 \n",
    "# title : main\n",
    "# data : maindata\n",
    "\n",
    "@app.route('/')\n",
    "def main():\n",
    "    title = json_data['main']['title']\n",
    "    data = json_data['main']['data']\n",
    "    return render_template('Ex01.html', title=title, data=data)\n",
    "\n",
    "# https://localhost:5000/stage1\n",
    "@app.route('/stage1')\n",
    "def stage1():\n",
    "    title = json_data['stage1']['title']\n",
    "    data = json_data['stage1']['data']\n",
    "    return render_template('Ex01.html', title=title, data=data)\n",
    "\n",
    "# https://localhost:5000/stage2\n",
    "@app.route('/stage2')\n",
    "def stage2():\n",
    "    title = json_data['stage2']['title']\n",
    "    data = json_data['stage2']['data']\n",
    "    return render_template('Ex01.html',title=title, data=data)\n",
    "\n",
    "if __name__ == '__main__':\n",
    "    app.run()"
   ]
  }
 ],
 "metadata": {
  "kernelspec": {
   "display_name": "Python 3 (ipykernel)",
   "language": "python",
   "name": "python3"
  },
  "language_info": {
   "codemirror_mode": {
    "name": "ipython",
    "version": 3
   },
   "file_extension": ".py",
   "mimetype": "text/x-python",
   "name": "python",
   "nbconvert_exporter": "python",
   "pygments_lexer": "ipython3",
   "version": "3.11.7"
  }
 },
 "nbformat": 4,
 "nbformat_minor": 5
}
