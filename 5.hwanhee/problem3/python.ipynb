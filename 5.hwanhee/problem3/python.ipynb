{
 "cells": [
  {
   "cell_type": "code",
   "execution_count": 127,
   "id": "dfb201eb-eeac-4ac3-a866-0ed3d512360c",
   "metadata": {},
   "outputs": [
    {
     "name": "stdout",
     "output_type": "stream",
     "text": [
      "1 2 3 4 5\n",
      "15\n"
     ]
    }
   ],
   "source": [
    "#Small Straight : 이어지는 주사위 눈이 4개 이상일 때. 고정 15점. ex) 1 2 3 4 6, 1 3 4 5 6\n",
    "import random\n",
    "\n",
    "dice1 = int(random.random()*3+1)\n",
    "dice2 = int(random.random()*3+1)\n",
    "dice3 = int(random.random()*3+1)\n",
    "dice4 = int(random.random()*3+1)\n",
    "dice5 = int(random.random()*3+1)\n",
    "point = 0\n",
    "\n",
    "if  dice1==dice2-1==dice3-2==dice4-3:\n",
    "    point += 15\n",
    "elif dice2==dice3-1==dice4-2==dice5-3:\n",
    "    point += 15\n",
    "elif dice1==dice2+1==dice3+2==dice4+3:\n",
    "    point += 15\n",
    "elif dice2==dice3+1==dice4+2==dice5+3:\n",
    "    point += 15\n",
    "\n",
    "print(dice1,dice2,dice3,dice4,dice5)\n",
    "print(point)"
   ]
  },
  {
   "cell_type": "code",
   "execution_count": 125,
   "id": "7dafad2e-a0fe-4585-9032-46bd9b05ba32",
   "metadata": {},
   "outputs": [
    {
     "name": "stdout",
     "output_type": "stream",
     "text": [
      "5 4 3 2 1\n",
      "30\n"
     ]
    }
   ],
   "source": [
    "#Large Straight : 이어지는 주사위 눈이 5개일 때. 고정 30점. ex) 1 2 3 4 5, 2 3 4 5 6\n",
    "dice1 = int(random.random()*3+1)\n",
    "dice2 = int(random.random()*3+1)\n",
    "dice3 = int(random.random()*3+1)\n",
    "dice4 = int(random.random()*3+1)\n",
    "dice5 = int(random.random()*3+1)\n",
    "point = 0\n",
    "\n",
    "if  dice1==dice2-1==dice3-2==dice4-3==dice5-4:\n",
    "    point += 30\n",
    "elif dice1-4==dice2-3==dice3-2==dice4-1==dice5:\n",
    "    point += 30\n",
    "\n",
    "print(dice1,dice2,dice3,dice4,dice5)\n",
    "print(point)"
   ]
  },
  {
   "cell_type": "code",
   "execution_count": null,
   "id": "1b5afb85-94e8-4364-bc4e-5770fb3264be",
   "metadata": {},
   "outputs": [],
   "source": []
  }
 ],
 "metadata": {
  "kernelspec": {
   "display_name": "Python 3 (ipykernel)",
   "language": "python",
   "name": "python3"
  },
  "language_info": {
   "codemirror_mode": {
    "name": "ipython",
    "version": 3
   },
   "file_extension": ".py",
   "mimetype": "text/x-python",
   "name": "python",
   "nbconvert_exporter": "python",
   "pygments_lexer": "ipython3",
   "version": "3.11.7"
  }
 },
 "nbformat": 4,
 "nbformat_minor": 5
}
