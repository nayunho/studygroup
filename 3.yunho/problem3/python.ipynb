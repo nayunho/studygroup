{
 "cells": [
  {
   "cell_type": "code",
   "execution_count": null,
   "id": "2e999bd9-1078-45ac-bf1a-69a8cb0d0ad9",
   "metadata": {},
   "outputs": [],
   "source": [
    "# 오늘 배운 파이썬으로 데이터베이스를 접속하고 1. 조건별 출력 그리고 2. 삭제기능을 만드세용!~\n",
    "# MySQLdb or sqlite3 사용\n",
    "#데이터베이스 링크 =>./data/study.db\n",
    "#데이터베이스 컬럼 id, name, age, addr\n",
    "##데이터베이스 host = localhost / port= 3308 / db = study / users = root / password = 12345\n",
    "\n",
    "#1. 조건 : name에 '영' 이라는 글자 그리고 age는 25이상인 데이터를 모두 출력\n",
    "#2. 조건 :나이가 20세에서 30세 사이이고 주소가 '서울' 또는 '부산'인 사용자를 검색하며, 그 결과를 나이를 기준으로 내림차순으로 정렬하기\n",
    "\n",
    "#####################################################################\n",
    "#데이터베이스가 없기 떄문에 임시로 있다고 생각해서 오늘 배운 파이썬 코드 활용하면서 복습한다는 개념으로 코드 작성하기!!\n",
    "# 3개의 코드가 나와야합니다.    // 메서드를 만들어서 작성\n",
    "# 꼭 밑의 형식을 따라할 필요는 없습니당!\n",
    "# 수업시간에 한 코드 보면서 공부해도 좋습니다.!!\n",
    "#조건1을 풀게되면 2는 금방 풀어서 열시미 해봅시다!"
   ]
  },
  {
   "cell_type": "code",
   "execution_count": null,
   "id": "30b25669-9efb-4322-bb03-cce5173c6c67",
   "metadata": {},
   "outputs": [],
   "source": [
    "#조건1\n",
    "import sqlite3\n",
    "\n",
    "def mysql():\n",
    "    conn = MySQLdb.connect(host='localhost',port='3308',db='study',user='root',password='12345')\n",
    "    cursor = conn.connect()\n",
    "\n",
    "    sql =  \"SELECT id, name, age, addr FROM your_table_name WHERE name LIKE '%영%' AND age >= 25\"\n",
    "    cursor.execute(sql, (name,age))\n",
    "\n",
    "    books = cursor.fetchall()\n",
    "\n",
    "    ##출력문\n",
    "    for book in books:\n",
    "        print(books)\n",
    "\n",
    "    cursor.close()\n",
    "    conn.close()\n",
    "        \n",
    "mysql_con1(\"영\",25)    \n",
    "cursor.close()\n",
    "conn.close()"
   ]
  },
  {
   "cell_type": "code",
   "execution_count": null,
   "id": "d163d3d1-9f12-40aa-9a4a-35c6df6cdde0",
   "metadata": {},
   "outputs": [],
   "source": [
    "#조건2\n",
    "import sqlite3\n",
    "\n",
    "conn = sqlite3.connect('./data/study.db')\n",
    "cursor = conn.cursor()\n",
    "\n",
    "\n",
    "sql = \"SELECT id, name, age, addr FROM your_table_name WHERE age BETWEEN ? AND ? AND addr IN (?, ?) ORDER BY age DESC\"\n",
    "\n",
    "cursor.execute(sql, (20,30,'서울','부산'))\n",
    "suppliers = cursor.fetchall()\n",
    "\n",
    "##출력문\n",
    "for supplier in suppliers:\n",
    "    print(supplier)\n",
    "\n",
    "cursor.close()\n",
    "conn.close()  "
   ]
  }
 ],
 "metadata": {
  "kernelspec": {
   "display_name": "Python 3 (ipykernel)",
   "language": "python",
   "name": "python3"
  },
  "language_info": {
   "codemirror_mode": {
    "name": "ipython",
    "version": 3
   },
   "file_extension": ".py",
   "mimetype": "text/x-python",
   "name": "python",
   "nbconvert_exporter": "python",
   "pygments_lexer": "ipython3",
   "version": "3.11.7"
  }
 },
 "nbformat": 4,
 "nbformat_minor": 5
}
