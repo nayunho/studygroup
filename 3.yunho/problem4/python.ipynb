{
 "cells": [
  {
   "cell_type": "code",
   "execution_count": 1,
   "id": "d9191184-7bf1-4187-a79f-dd9e760bbdbc",
   "metadata": {},
   "outputs": [],
   "source": [
    "#각각 3개의 그림을 다른파일로 생성해서 제출\n",
    "#이유는 일반적으로 한 번에 하나의 거북이 창만 열 수 있습니다. \n",
    "#따라서 터틀을 닫을떄 오류가발생할수 있어서\n",
    "# 총 2개의 파일을 제출(문제1 / 문제2)\n",
    "# 예시로준 문제는 한번실행해서 경험해보기\n",
    "#만약 터틀종료후 오류발생하면 창을 다시열어서 다시실행하기\n",
    "# 그래도 모르겠으면 구글링해서 터틀에대해 알아보기\n",
    "\n",
    "import turtle\n",
    "\n",
    "#예시. 거북이 생성 및 삼각형 그리기\n",
    "import turtle\n",
    "t = turtle.Turtle()\n",
    "t.shape('turtle') # 거북이 모양을 거북이로 설정\n",
    "\n",
    "for i in range(3): # 3번 반복\n",
    "    t.forward(200) # 거북이를 앞으로 200만큼 이동\n",
    "    t.left(120) # 거북이를 왼쪽으로 120도 회전\n",
    "turtle.done()\n",
    "\n",
    "\n",
    "\n",
    "\n",
    "############################\n",
    "# 문제1. 거북이생성 및 사각형 그리기\n",
    "t1 = turtle.Turtle()\n",
    "t1.shape('turtle')\n",
    "\n",
    "for i in range():\n",
    "    t1.forward()\n",
    "    t1.left()\n",
    "turtle.done()\n",
    "\n",
    "############################\n",
    "# 문제2. 오각별 그리기\n",
    "# 오각별의 특징을 잘생각해서 구현하기\n",
    "# hint) 오각별에서 삼각형 꼭대기의 각은 72도! \n",
    "# hint) forward() / left() / right() 사용\n",
    "t2 = turtle.Turtle()\n",
    "t2.shape('turtle')\n",
    "\n",
    "for i in range(5):# 총5번 반복\n",
    "    t2.~~~~\n",
    "    t2.~~~~\n",
    "    t2.~~~~\n",
    "    t2.~~~~\n",
    "    \n",
    "turtle.done() # 일반적으로 한 번에 하나의 거북이 창만 열 수 있습니다. \n",
    "#이미 열린 창이 닫히지 않고 남아 있으면 새로운 거북이 객체를 생성할 수 없습니다.\n",
    "#따라서 종료해야함"
   ]
  },
  {
   "cell_type": "code",
   "execution_count": null,
   "id": "a91dfbbd-392e-461e-9488-40d308730008",
   "metadata": {},
   "outputs": [],
   "source": []
  }
 ],
 "metadata": {
  "kernelspec": {
   "display_name": "Python 3 (ipykernel)",
   "language": "python",
   "name": "python3"
  },
  "language_info": {
   "codemirror_mode": {
    "name": "ipython",
    "version": 3
   },
   "file_extension": ".py",
   "mimetype": "text/x-python",
   "name": "python",
   "nbconvert_exporter": "python",
   "pygments_lexer": "ipython3",
   "version": "3.11.7"
  }
 },
 "nbformat": 4,
 "nbformat_minor": 5
}
