{
 "cells": [
  {
   "cell_type": "code",
   "execution_count": null,
   "id": "8778c3e4-ae5c-4532-8074-671d2c7cd454",
   "metadata": {},
   "outputs": [],
   "source": [
    "# 저번에 했던 거북이을 기억하며 거북이를 이용해서 그림그리기 \n",
    "# 모르면 구글링가능 \n",
    "# ??? 안에 값을 넣으시면 됩니다!"
   ]
  },
  {
   "cell_type": "code",
   "execution_count": null,
   "id": "9604d620-a596-4532-97b4-9ae43c0fd92b",
   "metadata": {},
   "outputs": [],
   "source": [
    "from turtle import *\n",
    "\n",
    "speed(0)\n",
    "colors = ['red','green','blue'] # 색깔\n",
    "pensize(2)                      # 펜 사이즈\n",
    "degree = 2                      # 각도 조절\n",
    "\n",
    "for i in range(1,500):\n",
    "    pencolor(???)               # 선의 색깔을 3개를 반복해서 설정 ex) \n",
    "    forward(???)                # 거북이 이동거리\n",
    "    left(???+???)                # 각도 돌리기\n",
    "mainloop() "
   ]
  },
  {
   "cell_type": "code",
   "execution_count": null,
   "id": "28bff00c-8f22-4d62-985f-15c26c02e701",
   "metadata": {},
   "outputs": [],
   "source": [
    "import turtle as t\n",
    " \n",
    "n = 60                  # 원의 갯수\n",
    "t.shape('???')          # 터틀 모양 설정\n",
    "t.speed('???')          # 거북이 속도를 가장 빠르게 설정\n",
    "for i in range(n):      # 반복 횟수\n",
    "    t.circle(???)       # 반지름이 120인 원을 그림\n",
    "    t.right(360 / n)    # 오른쪽으로 돌면서 그림 그리기\n",
    "    \n",
    "mainloop()"
   ]
  }
 ],
 "metadata": {
  "kernelspec": {
   "display_name": "Python 3 (ipykernel)",
   "language": "python",
   "name": "python3"
  },
  "language_info": {
   "codemirror_mode": {
    "name": "ipython",
    "version": 3
   },
   "file_extension": ".py",
   "mimetype": "text/x-python",
   "name": "python",
   "nbconvert_exporter": "python",
   "pygments_lexer": "ipython3",
   "version": "3.11.7"
  }
 },
 "nbformat": 4,
 "nbformat_minor": 5
}
