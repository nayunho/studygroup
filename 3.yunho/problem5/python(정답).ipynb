{
 "cells": [
  {
   "cell_type": "code",
   "execution_count": null,
   "id": "28964c77-06a8-40c6-8bcb-1970ffb3087c",
   "metadata": {},
   "outputs": [],
   "source": [
    "from turtle import *\n",
    "\n",
    "speed(0)\n",
    "colors = ['red','green','blue']\n",
    "pensize(2)\n",
    "degree = 2\n",
    "\n",
    "for i in range(1,500):\n",
    "    pencolor(colors[i%3])\n",
    "    forward(i)\n",
    "    left(90+degree)\n",
    "\n",
    "mainloop()"
   ]
  },
  {
   "cell_type": "code",
   "execution_count": null,
   "id": "20f75678-04fe-4a8c-8730-626926efa09d",
   "metadata": {},
   "outputs": [],
   "source": [
    "import turtle as t\n",
    " \n",
    "n = 60    # 원의 갯수\n",
    "t.shape('turtle') # \n",
    "t.speed('fastest')      # 거북이 속도를 가장 빠르게 설정\n",
    "for i in range(n):\n",
    "    t.circle(120)       # 반지름이 120인 원을 그림\n",
    "    t.right(360 / n)    # 원을 60등분해서 그릴 때 한 번에 회전하는 각도를 계산하는 것\n",
    "    \n",
    "mainloop()"
   ]
  }
 ],
 "metadata": {
  "kernelspec": {
   "display_name": "Python 3 (ipykernel)",
   "language": "python",
   "name": "python3"
  },
  "language_info": {
   "codemirror_mode": {
    "name": "ipython",
    "version": 3
   },
   "file_extension": ".py",
   "mimetype": "text/x-python",
   "name": "python",
   "nbconvert_exporter": "python",
   "pygments_lexer": "ipython3",
   "version": "3.11.7"
  }
 },
 "nbformat": 4,
 "nbformat_minor": 5
}
